{
 "cells": [
  {
   "cell_type": "code",
   "execution_count": 1499,
   "metadata": {},
   "outputs": [],
   "source": [
    "import pandas as pd"
   ]
  },
  {
   "cell_type": "code",
   "execution_count": 1500,
   "metadata": {},
   "outputs": [],
   "source": [
    "def combine_waves(color_log_folders, color, channels, wave_type):\n",
    "    data = {channel: [] for channel in channels}\n",
    "    for folder in color_log_folders:\n",
    "        for channel in channels:\n",
    "            filepath = f\"{folder}\\\\signal_{color}\\\\waves\\\\{channel}\\\\{wave_type}\\\\raw.csv\"\n",
    "            df_temp = pd.read_csv(filepath)\n",
    "            # Append the 'value' column data from each file\n",
    "            data[channel].append(df_temp['value'])\n",
    "    return pd.DataFrame({f\"{channel}_{wave_type}\": pd.concat(readings, ignore_index=True) for channel, readings in data.items()})"
   ]
  },
  {
   "cell_type": "code",
   "execution_count": 1501,
   "metadata": {},
   "outputs": [
    {
     "name": "stdout",
     "output_type": "stream",
     "text": [
      "   O1_alpha  O2_alpha   O1_beta   O2_beta  O1_theta  O2_theta\n",
      "0  0.005108  0.005035  0.002002  0.001802  0.054220  0.052788\n",
      "1  0.005231  0.004903  0.001960  0.001830  0.053868  0.052493\n",
      "2  0.005342  0.004874  0.001986  0.001911  0.053604  0.052304\n",
      "3  0.005180  0.004850  0.001985  0.001858  0.053603  0.052567\n",
      "4  0.005391  0.004872  0.001989  0.001916  0.053874  0.052714\n"
     ]
    }
   ],
   "source": [
    "green_alpha_1 = combine_waves([\"color_logs_1\"], \"green\", [\"O1\", \"O2\"], \"alpha\")\n",
    "green_alpha_2 = combine_waves([\"color_logs_2\"], \"green\", [\"O1\", \"O2\"], \"alpha\")\n",
    "green_alpha_3 = combine_waves([\"color_logs_3\"], \"green\", [\"O1\", \"O2\"], \"alpha\")\n",
    "green_alpha_4 = combine_waves([\"color_logs_4\"], \"green\", [\"O1\", \"O2\"], \"alpha\")\n",
    "green_alpha_5 = combine_waves([\"color_logs_5\"], \"green\", [\"O1\", \"O2\"], \"alpha\")\n",
    "\n",
    "green_beta_1 = combine_waves([\"color_logs_1\"], \"green\", [\"O1\", \"O2\"], \"beta\")\n",
    "green_beta_2 = combine_waves([\"color_logs_2\"], \"green\", [\"O1\", \"O2\"], \"beta\")\n",
    "green_beta_3 = combine_waves([\"color_logs_3\"], \"green\", [\"O1\", \"O2\"], \"beta\")\n",
    "green_beta_4 = combine_waves([\"color_logs_4\"], \"green\", [\"O1\", \"O2\"], \"beta\")\n",
    "green_beta_5 = combine_waves([\"color_logs_5\"], \"green\", [\"O1\", \"O2\"], \"beta\")\n",
    "\n",
    "green_theta_1 = combine_waves([\"color_logs_1\"], \"green\", [\"O1\", \"O2\"], \"theta\")\n",
    "green_theta_2 = combine_waves([\"color_logs_2\"], \"green\", [\"O1\", \"O2\"], \"theta\")\n",
    "green_theta_3 = combine_waves([\"color_logs_3\"], \"green\", [\"O1\", \"O2\"], \"theta\")\n",
    "green_theta_4 = combine_waves([\"color_logs_4\"], \"green\", [\"O1\", \"O2\"], \"theta\")\n",
    "green_theta_5 = combine_waves([\"color_logs_5\"], \"green\", [\"O1\", \"O2\"], \"theta\")\n",
    "\n",
    "\n",
    "\n",
    "green_alpha_df = pd.concat([green_alpha_1, green_alpha_2, green_alpha_3, green_alpha_4, green_alpha_5])\n",
    "green_beta_df = pd.concat([green_beta_1, green_beta_2, green_beta_3, green_beta_4, green_beta_5])\n",
    "green_theta_df = pd.concat([green_theta_1, green_theta_2, green_theta_3, green_theta_4, green_theta_5])\n",
    "green_df = pd.concat([green_alpha_df, green_beta_df, green_theta_df], axis=1)\n",
    "print(green_df.head())"
   ]
  },
  {
   "cell_type": "code",
   "execution_count": null,
   "metadata": {},
   "outputs": [],
   "source": [
    "import matplotlib.pyplot as plt\n",
    "import pandas as pd\n",
    "\n",
    "# Create lists for each color log\n",
    "greens = [green_alpha_1, green_alpha_2, green_alpha_3, green_alpha_4, green_alpha_5]\n",
    "reds = [red_alpha_1, red_alpha_2, red_alpha_3, red_alpha_4, red_alpha_5]\n",
    "violets = [violet_alpha_1, violet_alpha_2, violet_alpha_3, violet_alpha_4, violet_alpha_5]\n",
    "\n",
    "# Set up the figure with 5 subplots arranged vertically\n",
    "fig, axes = plt.subplots(nrows=5, ncols=1, figsize=(10, 25))\n",
    "\n",
    "for i, ax in enumerate(axes):\n",
    "    # Combine the two channels for each color by concatenating the series.\n",
    "    # This gives one series per color log where both O1 and O2 alpha values are combined.\n",
    "    green_series = pd.concat([greens[i][\"O1_alpha\"], greens[i][\"O2_alpha\"]])\n",
    "    red_series   = pd.concat([reds[i][\"O1_alpha\"], reds[i][\"O2_alpha\"]])\n",
    "    violet_series = pd.concat([violets[i][\"O1_alpha\"], violets[i][\"O2_alpha\"]])\n",
    "    \n",
    "    # Create a boxplot for this log session.\n",
    "    ax.boxplot([green_series, red_series, violet_series],\n",
    "               labels=[\"green\", \"red\", \"violet\"],\n",
    "               patch_artist=True)\n",
    "    \n",
    "    # Customize the subplot\n",
    "    ax.set_title(f\"Alpha Waves from Log: color_logs_{i+1}\")\n",
    "    ax.set_ylabel(\"Signal Value\")\n",
    "\n",
    "plt.tight_layout()\n",
    "plt.show()"
   ]
  },
  {
   "cell_type": "code",
   "execution_count": 1502,
   "metadata": {},
   "outputs": [],
   "source": [
    "# # display boxplots for all channels\n",
    "# import matplotlib.pyplot as plt\n",
    "# # Create a figure and axis\n",
    "# plt.figure(figsize=(10, 6))\n",
    "\n",
    "# # Create boxplots for all channels\n",
    "# data = [green_alpha_1['O1'], green_alpha_1['O2'],\n",
    "#         green_alpha_2['O1'], green_alpha_2['O2'], \n",
    "#         green_alpha_3['O1'], green_alpha_3['O2'],\n",
    "#         green_alpha_4['O1'], green_alpha_4['O2'],\n",
    "#         green_alpha_5['O1'], green_alpha_5['O2']]\n",
    "# plt.boxplot(data, labels=['Green O1', 'Green O2', 'Green O1', 'Green O2', 'Green O1', 'Green O2', 'Green O1', 'Green O2', 'Green O1', 'Green O2'])\n",
    "\n",
    "# # Customize the plot\n",
    "# plt.title('EEG alpha waves by Channel')\n",
    "# plt.ylabel('Signal Value')\n",
    "\n",
    "# # Display the plot\n",
    "# plt.show()"
   ]
  },
  {
   "cell_type": "code",
   "execution_count": 1503,
   "metadata": {},
   "outputs": [
    {
     "name": "stdout",
     "output_type": "stream",
     "text": [
      "   O1_alpha  O2_alpha   O1_beta   O2_beta  O1_theta  O2_theta\n",
      "0  0.005267  0.005238  0.001774  0.001412  0.053326  0.052082\n",
      "1  0.004974  0.005109  0.001886  0.001524  0.053281  0.051908\n",
      "2  0.004847  0.004995  0.001972  0.001579  0.053423  0.052082\n",
      "3  0.005170  0.005116  0.001967  0.001579  0.053179  0.051951\n",
      "4  0.005033  0.005095  0.001943  0.001590  0.053502  0.052006\n"
     ]
    }
   ],
   "source": [
    "red_alpha_1 = combine_waves([\"color_logs_1\"], \"red\", [\"O1\", \"O2\"], \"alpha\")\n",
    "red_alpha_2 = combine_waves([\"color_logs_2\"], \"red\", [\"O1\", \"O2\"], \"alpha\")\n",
    "red_alpha_3 = combine_waves([\"color_logs_3\"], \"red\", [\"O1\", \"O2\"], \"alpha\")\n",
    "red_alpha_4 = combine_waves([\"color_logs_4\"], \"red\", [\"O1\", \"O2\"], \"alpha\")\n",
    "red_alpha_5 = combine_waves([\"color_logs_5\"], \"red\", [\"O1\", \"O2\"], \"alpha\")\n",
    "\n",
    "red_beta_1 = combine_waves([\"color_logs_1\"], \"red\", [\"O1\", \"O2\"], \"beta\")\n",
    "red_beta_2 = combine_waves([\"color_logs_2\"], \"red\", [\"O1\", \"O2\"], \"beta\")\n",
    "red_beta_3 = combine_waves([\"color_logs_3\"], \"red\", [\"O1\", \"O2\"], \"beta\")\n",
    "red_beta_4 = combine_waves([\"color_logs_4\"], \"red\", [\"O1\", \"O2\"], \"beta\")\n",
    "red_beta_5 = combine_waves([\"color_logs_5\"], \"red\", [\"O1\", \"O2\"], \"beta\")\n",
    "\n",
    "red_theta_1 = combine_waves([\"color_logs_1\"], \"red\", [\"O1\", \"O2\"], \"theta\")\n",
    "red_theta_2 = combine_waves([\"color_logs_2\"], \"red\", [\"O1\", \"O2\"], \"theta\")\n",
    "red_theta_3 = combine_waves([\"color_logs_3\"], \"red\", [\"O1\", \"O2\"], \"theta\")\n",
    "red_theta_4 = combine_waves([\"color_logs_4\"], \"red\", [\"O1\", \"O2\"], \"theta\")\n",
    "red_theta_5 = combine_waves([\"color_logs_5\"], \"red\", [\"O1\", \"O2\"], \"theta\")\n",
    "\n",
    "red_alpha_df = pd.concat([red_alpha_1, red_alpha_2, red_alpha_3, red_alpha_4, red_alpha_5])\n",
    "red_beta_df = pd.concat([red_beta_1, red_beta_2, red_beta_3, red_beta_4, red_beta_5])\n",
    "red_theta_df = pd.concat([red_theta_1, red_theta_2, red_theta_3, red_theta_4, red_theta_5])\n",
    "red_df = pd.concat([red_alpha_df, red_beta_df, red_theta_df], axis=1)\n",
    "print(red_df.head())"
   ]
  },
  {
   "cell_type": "code",
   "execution_count": 1504,
   "metadata": {},
   "outputs": [
    {
     "name": "stdout",
     "output_type": "stream",
     "text": [
      "   O1_alpha  O2_alpha   O1_beta   O2_beta  O1_theta  O2_theta\n",
      "0  0.005249  0.005197  0.001846  0.001441  0.054320  0.053163\n",
      "1  0.005196  0.005115  0.001819  0.001448  0.054261  0.053595\n",
      "2  0.005198  0.005172  0.001788  0.001442  0.054525  0.053199\n",
      "3  0.005324  0.005176  0.001752  0.001480  0.054523  0.053303\n",
      "4  0.005248  0.005081  0.001701  0.001475  0.054455  0.053435\n"
     ]
    }
   ],
   "source": [
    "violet_alpha_1 = combine_waves([\"color_logs_1\"], \"violet\", [\"O1\", \"O2\"], \"alpha\")\n",
    "violet_alpha_2 = combine_waves([\"color_logs_2\"], \"violet\", [\"O1\", \"O2\"], \"alpha\")\n",
    "violet_alpha_3 = combine_waves([\"color_logs_3\"], \"violet\", [\"O1\", \"O2\"], \"alpha\")\n",
    "violet_alpha_4 = combine_waves([\"color_logs_4\"], \"violet\", [\"O1\", \"O2\"], \"alpha\")\n",
    "violet_alpha_5 = combine_waves([\"color_logs_5\"], \"violet\", [\"O1\", \"O2\"], \"alpha\")\n",
    "\n",
    "violet_beta_1 = combine_waves([\"color_logs_1\"], \"violet\", [\"O1\", \"O2\"], \"beta\")\n",
    "violet_beta_2 = combine_waves([\"color_logs_2\"], \"violet\", [\"O1\", \"O2\"], \"beta\")\n",
    "violet_beta_3 = combine_waves([\"color_logs_3\"], \"violet\", [\"O1\", \"O2\"], \"beta\")\n",
    "violet_beta_4 = combine_waves([\"color_logs_4\"], \"violet\", [\"O1\", \"O2\"], \"beta\")\n",
    "violet_beta_5 = combine_waves([\"color_logs_5\"], \"violet\", [\"O1\", \"O2\"], \"beta\")\n",
    "\n",
    "violet_theta_1 = combine_waves([\"color_logs_1\"], \"violet\", [\"O1\", \"O2\"], \"theta\")\n",
    "violet_theta_2 = combine_waves([\"color_logs_2\"], \"violet\", [\"O1\", \"O2\"], \"theta\")\n",
    "violet_theta_3 = combine_waves([\"color_logs_3\"], \"violet\", [\"O1\", \"O2\"], \"theta\")\n",
    "violet_theta_4 = combine_waves([\"color_logs_4\"], \"violet\", [\"O1\", \"O2\"], \"theta\")\n",
    "violet_theta_5 = combine_waves([\"color_logs_5\"], \"violet\", [\"O1\", \"O2\"], \"theta\")\n",
    "\n",
    "violet_alpha_df = pd.concat([violet_alpha_1, violet_alpha_2, violet_alpha_3, violet_alpha_4, violet_alpha_5])\n",
    "violet_beta_df = pd.concat([violet_beta_1, violet_beta_2, violet_beta_3, violet_beta_4, violet_beta_5])\n",
    "violet_theta_df = pd.concat([violet_theta_1, violet_theta_2, violet_theta_3, violet_theta_4, violet_theta_5])\n",
    "violet_df = pd.concat([violet_alpha_df, violet_beta_df, violet_theta_df], axis=1)\n",
    "print(violet_df.head())"
   ]
  },
  {
   "cell_type": "code",
   "execution_count": null,
   "metadata": {},
   "outputs": [],
   "source": []
  },
  {
   "cell_type": "code",
   "execution_count": 1505,
   "metadata": {},
   "outputs": [],
   "source": [
    "# # display boxplots for all channels\n",
    "# import matplotlib.pyplot as plt\n",
    "# # Create a figure and axis\n",
    "# plt.figure(figsize=(10, 6))\n",
    "\n",
    "# # Create boxplots for all channels\n",
    "# data = [green_alpha['O1'], green_alpha['O2'],\n",
    "#         green_beta['O1'], green_beta['O2'],\n",
    "#         red_alpha['O1'], red_alpha['O2'], \n",
    "#         red_beta['O1'], red_beta['O2'],\n",
    "#         violet_alpha['O1'], violet_alpha['O2'],\n",
    "#         violet_beta['O1'], violet_beta['O2']]\n",
    "# plt.boxplot(data, labels=['Green O1', 'Green O2', 'Green Beta O1', 'Green Beta O2', 'Red O1', 'Red O2', 'Red Beta O1', 'Red Beta O2', 'Violet O1', 'Violet O2', 'Violet Beta O1', 'Violet Beta O2'])\n",
    "\n",
    "# # Customize the plot\n",
    "# plt.title('EEG alpha waves by Channel')\n",
    "# plt.ylabel('Signal Value')\n",
    "\n",
    "# # Display the plot\n",
    "# plt.show()"
   ]
  },
  {
   "cell_type": "code",
   "execution_count": 1506,
   "metadata": {},
   "outputs": [],
   "source": [
    "# # calculate the standard deviation of the alpha waves\n",
    "# print(\"Green Alpha std (O1, O2):\", green_alpha[['O1', 'O2']].std())\n",
    "# print(\"Red Alpha std (O1, O2):\", red_alpha[['O1', 'O2']].std())\n",
    "# print(\"Violet Alpha std (O1, O2):\", violet_alpha[['O1', 'O2']].std())"
   ]
  },
  {
   "cell_type": "code",
   "execution_count": 1507,
   "metadata": {},
   "outputs": [],
   "source": [
    "green_df[\"label\"] = \"green\"\n",
    "red_df[\"label\"] = \"red\"\n",
    "violet_df[\"label\"] = \"violet\"\n",
    "\n",
    "waves = pd.concat([green_df, red_df, violet_df])"
   ]
  },
  {
   "cell_type": "code",
   "execution_count": 1508,
   "metadata": {},
   "outputs": [],
   "source": [
    "from sklearn.preprocessing import StandardScaler\n",
    "from sklearn.linear_model import LogisticRegression\n",
    "from sklearn.model_selection import train_test_split\n",
    "from sklearn.metrics import accuracy_score, classification_report\n",
    "\n",
    "# Split the data into training and testing sets\n",
    "X_train, X_test, y_train, y_test = train_test_split(waves[['O1_alpha', 'O2_alpha', 'O1_beta', 'O2_beta', 'O1_theta', 'O2_theta']], waves['label'], test_size=0.3, stratify=waves['label'])"
   ]
  },
  {
   "cell_type": "code",
   "execution_count": 1509,
   "metadata": {},
   "outputs": [],
   "source": [
    "# scale the data\n",
    "scaler = StandardScaler()\n",
    "X_train = scaler.fit_transform(X_train)\n",
    "X_test = scaler.transform(X_test)"
   ]
  },
  {
   "cell_type": "code",
   "execution_count": 1510,
   "metadata": {},
   "outputs": [
    {
     "name": "stdout",
     "output_type": "stream",
     "text": [
      "              precision    recall  f1-score   support\n",
      "\n",
      "       green       0.59      0.44      0.50        75\n",
      "         red       0.56      0.53      0.55        75\n",
      "      violet       0.53      0.69      0.60        75\n",
      "\n",
      "    accuracy                           0.56       225\n",
      "   macro avg       0.56      0.56      0.55       225\n",
      "weighted avg       0.56      0.56      0.55       225\n",
      "\n",
      "0.5555555555555556\n"
     ]
    }
   ],
   "source": [
    "model = LogisticRegression()\n",
    "model.fit(X_train, y_train)\n",
    "y_pred = model.predict(X_test)\n",
    "print(classification_report(y_test, y_pred))\n",
    "print(accuracy_score(y_test, y_pred))"
   ]
  }
 ],
 "metadata": {
  "kernelspec": {
   "display_name": "Capstone",
   "language": "python",
   "name": "python3"
  },
  "language_info": {
   "codemirror_mode": {
    "name": "ipython",
    "version": 3
   },
   "file_extension": ".py",
   "mimetype": "text/x-python",
   "name": "python",
   "nbconvert_exporter": "python",
   "pygments_lexer": "ipython3",
   "version": "3.12.8"
  }
 },
 "nbformat": 4,
 "nbformat_minor": 2
}
