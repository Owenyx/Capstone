{
 "cells": [
  {
   "cell_type": "code",
   "execution_count": 1,
   "metadata": {},
   "outputs": [],
   "source": [
    "import pandas as pd\n",
    "import ast\n",
    "from sklearn.preprocessing import StandardScaler\n",
    "\n",
    "def read_and_preprocess(file_path):\n",
    "    \"\"\"\n",
    "    Reads the CSV file (which has a timestamp and a list of features per row)\n",
    "    and converts it into a DataFrame with separate columns for each feature,\n",
    "    ignoring the timestamp.\n",
    "    \"\"\"\n",
    "    data = []\n",
    "    with open(file_path, 'r') as f:\n",
    "        for line in f:\n",
    "            # Remove any extraneous whitespace\n",
    "            s = line.strip()\n",
    "            if not s:\n",
    "                continue\n",
    "\n",
    "            # Remove any prepended characters (e.g., line numbers) if present.\n",
    "            if \"|\" in s:\n",
    "                s = s.split(\"|\", 1)[1].strip()\n",
    "\n",
    "            # Split into timestamp and feature string using the first comma only.\n",
    "            parts = s.split(\",\", 1)\n",
    "            if len(parts) != 2:\n",
    "                continue\n",
    "\n",
    "            # Ignore the timestamp (parts[0]) and process only the feature list.\n",
    "            feature_string = parts[1].strip()\n",
    "            try:\n",
    "                features = ast.literal_eval(feature_string)\n",
    "            except Exception as e:\n",
    "                print(\"Error parsing features from line:\", s)\n",
    "                continue\n",
    "\n",
    "            # Append only the features, dropping the timestamp.\n",
    "            data.append(features)\n",
    "\n",
    "    if not data:\n",
    "        return None\n",
    "\n",
    "    # Create column names for features only.\n",
    "    num_features = len(data[0])\n",
    "    columns = [f'feat_{i}' for i in range(num_features)]\n",
    "    df = pd.DataFrame(data, columns=columns)\n",
    "    # Scale the data using StandardScaler\n",
    "    scaler = StandardScaler()\n",
    "    scaled_array = scaler.fit_transform(df)\n",
    "    df_scaled = pd.DataFrame(scaled_array, columns=columns)\n",
    "    return df_scaled\n"
   ]
  },
  {
   "cell_type": "code",
   "execution_count": 2,
   "metadata": {},
   "outputs": [
    {
     "name": "stdout",
     "output_type": "stream",
     "text": [
      "Error parsing features from line: timestamp,value\n",
      "Error parsing features from line: timestamp,value\n",
      "Error parsing features from line: timestamp,value\n",
      "Error parsing features from line: timestamp,value\n",
      "Error parsing features from line: timestamp,value\n",
      "Error parsing features from line: timestamp,value\n",
      "     feat_0    feat_1    feat_2    feat_3    feat_4    feat_5    feat_6  \\\n",
      "0  0.600781  0.532898 -0.602782 -0.371966  0.983865 -0.589066  0.360267   \n",
      "1  0.641240  0.583599 -0.401763 -0.078037  0.797990 -0.456516  1.182528   \n",
      "2  0.684890  0.638117 -0.189947  0.501022 -0.168079  0.929138 -0.097563   \n",
      "3  0.730237  0.694165  0.044300  0.833547 -0.617456  1.075911 -0.635549   \n",
      "4  0.775678  0.749686  0.290062  0.573722 -0.056147 -0.056981  1.542712   \n",
      "\n",
      "     feat_7    feat_8    feat_9  ...  feat_194  feat_195  feat_196  feat_197  \\\n",
      "0  0.524181  1.505605 -1.097089  ... -0.998738 -1.781686 -2.152026  0.887946   \n",
      "1 -0.304474 -0.008164  0.630768  ... -1.374470 -1.330960 -2.464858  0.791009   \n",
      "2  0.504025 -0.408072  0.971075  ... -1.381358 -1.306847 -1.288401  1.215840   \n",
      "3  0.409712  1.504030 -1.341970  ... -1.786023 -0.933920 -1.001329  1.455101   \n",
      "4  0.515140 -1.154540  2.274386  ... -1.636230 -0.746617  0.125912  1.179499   \n",
      "\n",
      "   feat_198  feat_199  feat_200  feat_201  feat_202  feat_203  \n",
      "0  0.969665 -0.520974 -0.104513  0.170143 -0.685170 -0.468436  \n",
      "1  1.552060 -1.101960 -0.434507  0.121333 -0.380914 -0.034441  \n",
      "2  1.496102 -1.499575 -0.602232 -0.110566 -0.104890  0.124835  \n",
      "3  1.493715 -1.698021 -0.779355 -0.431633  0.117235 -0.017266  \n",
      "4  1.686335 -1.534175 -1.012223 -0.656043  0.248434 -0.423158  \n",
      "\n",
      "[5 rows x 408 columns]\n"
     ]
    }
   ],
   "source": [
    "green_spectrum_1 = pd.concat([\n",
    "    read_and_preprocess(\"color_logs_1\\\\signal_green\\\\spectrum\\\\O1.csv\"),\n",
    "    read_and_preprocess(\"color_logs_1\\\\signal_green\\\\spectrum\\\\O2.csv\")\n",
    "], axis=1)\n",
    "\n",
    "red_spectrum_1 = pd.concat([\n",
    "    read_and_preprocess(\"color_logs_1\\\\signal_red\\\\spectrum\\\\O1.csv\"),\n",
    "    read_and_preprocess(\"color_logs_1\\\\signal_red\\\\spectrum\\\\O2.csv\")\n",
    "], axis=1)\n",
    "\n",
    "violet_spectrum_1 = pd.concat([\n",
    "    read_and_preprocess(\"color_logs_1\\\\signal_violet\\\\spectrum\\\\O1.csv\"),\n",
    "    read_and_preprocess(\"color_logs_1\\\\signal_violet\\\\spectrum\\\\O2.csv\")\n",
    "], axis=1)\n",
    "\n",
    "print(violet_spectrum_1.head())\n"
   ]
  },
  {
   "cell_type": "code",
   "execution_count": 3,
   "metadata": {},
   "outputs": [
    {
     "name": "stdout",
     "output_type": "stream",
     "text": [
      "     feat_0    feat_1    feat_2    feat_3    feat_4    feat_5    feat_6  \\\n",
      "0  1.725911  1.780315  1.408887  1.819774  0.680828 -0.105715  0.929413   \n",
      "1  1.703700  1.751603  1.311217  1.916282 -0.529549  2.339642 -0.794216   \n",
      "2  1.668088  1.710753  1.226046  1.583699  0.180674  1.348890 -0.200964   \n",
      "3  1.619664  1.658944  1.150217  1.178270  1.772339 -1.226075  1.626331   \n",
      "4  1.559046  1.596643  1.094244  1.243530  1.682300 -0.656622  0.838516   \n",
      "\n",
      "     feat_7    feat_8    feat_9  ...  feat_195  feat_196  feat_197  feat_198  \\\n",
      "0  1.286575 -2.100530  2.730594  ...  1.432459  2.282761 -0.914006  0.202656   \n",
      "1 -0.722540  2.835264 -2.644327  ...  1.548805  2.446777 -0.384037  0.339733   \n",
      "2  0.992656 -1.505260  2.543428  ...  1.805529  2.154984  0.458467  0.398515   \n",
      "3  0.334110  0.556995 -1.333335  ...  1.886473  1.710978  0.975899  0.653797   \n",
      "4 -0.786960  1.167892  0.554104  ...  1.885826  1.223593  1.136424  0.876096   \n",
      "\n",
      "   feat_199  feat_200  feat_201  feat_202  feat_203  label  \n",
      "0  1.496223  0.822959  1.049449  0.435558 -0.668054  green  \n",
      "1  0.916177  0.771964  1.224016  0.604966 -0.520060  green  \n",
      "2  0.369270  0.541680  1.238543  0.672014 -0.354159  green  \n",
      "3 -0.710132  0.255769  1.053224  0.637385 -0.227389  green  \n",
      "4 -1.287222  0.155864  0.586937  0.515700 -0.188530  green  \n",
      "\n",
      "[5 rows x 409 columns]\n"
     ]
    }
   ],
   "source": [
    "green_spectrum_1['label'] = 'green'\n",
    "red_spectrum_1['label'] = 'red'\n",
    "violet_spectrum_1['label'] = 'violet'\n",
    "\n",
    "spectrum_1 = pd.concat([green_spectrum_1, red_spectrum_1, violet_spectrum_1])\n",
    "print(spectrum_1.head())"
   ]
  },
  {
   "cell_type": "code",
   "execution_count": 8,
   "metadata": {},
   "outputs": [],
   "source": [
    "from sklearn.linear_model import LogisticRegression\n",
    "from sklearn.model_selection import train_test_split\n",
    "from sklearn.metrics import classification_report"
   ]
  },
  {
   "cell_type": "code",
   "execution_count": 17,
   "metadata": {},
   "outputs": [],
   "source": [
    "X = spectrum_1.drop(columns='label')\n",
    "y = spectrum_1['label']\n",
    "x_train, x_test, y_train, y_test = train_test_split(X, y, test_size=0.2, random_state=42)"
   ]
  },
  {
   "cell_type": "code",
   "execution_count": 29,
   "metadata": {},
   "outputs": [
    {
     "name": "stdout",
     "output_type": "stream",
     "text": [
      "              precision    recall  f1-score   support\n",
      "\n",
      "       green       0.00      0.00      0.00        10\n",
      "         red       0.00      0.00      0.00         9\n",
      "      violet       0.14      0.09      0.11        11\n",
      "\n",
      "    accuracy                           0.03        30\n",
      "   macro avg       0.05      0.03      0.04        30\n",
      "weighted avg       0.05      0.03      0.04        30\n",
      "\n"
     ]
    }
   ],
   "source": [
    "model = LogisticRegression(class_weight=\"balanced\", max_iter=5000)\n",
    "\n",
    "model.fit(x_train, y_train)\n",
    "\n",
    "predictions = model.predict(x_test)\n",
    "\n",
    "print(classification_report(y_test, predictions))\n"
   ]
  },
  {
   "cell_type": "code",
   "execution_count": 7,
   "metadata": {},
   "outputs": [
    {
     "ename": "NameError",
     "evalue": "name 'plt' is not defined",
     "output_type": "error",
     "traceback": [
      "\u001b[1;31m---------------------------------------------------------------------------\u001b[0m",
      "\u001b[1;31mNameError\u001b[0m                                 Traceback (most recent call last)",
      "Cell \u001b[1;32mIn[7], line 8\u001b[0m\n\u001b[0;32m      6\u001b[0m \u001b[38;5;66;03m# Create a confusion matrix display and plot it\u001b[39;00m\n\u001b[0;32m      7\u001b[0m disp \u001b[38;5;241m=\u001b[39m ConfusionMatrixDisplay(confusion_matrix\u001b[38;5;241m=\u001b[39mcm, display_labels\u001b[38;5;241m=\u001b[39mmodel\u001b[38;5;241m.\u001b[39mclasses_)\n\u001b[1;32m----> 8\u001b[0m disp\u001b[38;5;241m.\u001b[39mplot(cmap\u001b[38;5;241m=\u001b[39m\u001b[43mplt\u001b[49m\u001b[38;5;241m.\u001b[39mcm\u001b[38;5;241m.\u001b[39mBlues)\n\u001b[0;32m      9\u001b[0m plt\u001b[38;5;241m.\u001b[39mtitle(\u001b[38;5;124m\"\u001b[39m\u001b[38;5;124mConfusion Matrix\u001b[39m\u001b[38;5;124m\"\u001b[39m)\n\u001b[0;32m     10\u001b[0m plt\u001b[38;5;241m.\u001b[39mshow()\n",
      "\u001b[1;31mNameError\u001b[0m: name 'plt' is not defined"
     ]
    }
   ],
   "source": [
    "from sklearn.metrics import confusion_matrix, ConfusionMatrixDisplay\n",
    "\n",
    "# Compute the confusion matrix using the true labels and predictions\n",
    "cm = confusion_matrix(y_test, predictions, labels=model.classes_)\n",
    "\n",
    "# Create a confusion matrix display and plot it\n",
    "disp = ConfusionMatrixDisplay(confusion_matrix=cm, display_labels=model.classes_)\n",
    "disp.plot(cmap=plt.cm.Blues)\n",
    "plt.title(\"Confusion Matrix\")\n",
    "plt.show()\n"
   ]
  },
  {
   "cell_type": "code",
   "execution_count": 674,
   "metadata": {},
   "outputs": [],
   "source": [
    "# test the model on another sample\n",
    "\n",
    "blue_O1 = pd.read_csv(\"color_logs_ethan_test\\\\signal_blue\\\\signal\\\\O1.csv\")\n",
    "blue_O2 = pd.read_csv(\"color_logs_ethan_test\\\\signal_blue\\\\signal\\\\O2.csv\")\n",
    "\n",
    "red_O1 = pd.read_csv(\"color_logs_ethan_test\\\\signal_red\\\\signal\\\\O1.csv\")\n",
    "red_O2 = pd.read_csv(\"color_logs_ethan_test\\\\signal_red\\\\signal\\\\O2.csv\")\n",
    "\n",
    "green_O1 = pd.read_csv(\"color_logs_ethan_test\\\\signal_green\\\\signal\\\\O1.csv\")\n",
    "green_O2 = pd.read_csv(\"color_logs_ethan_test\\\\signal_green\\\\signal\\\\O2.csv\")\n",
    "\n",
    "\n",
    "\n",
    "blue_O1.drop(columns=[\"timestamp\"], inplace=True)\n",
    "blue_O2.drop(columns=[\"timestamp\"], inplace=True)\n",
    "\n",
    "\n",
    "red_O1.drop(columns=[\"timestamp\"], inplace=True)\n",
    "red_O2.drop(columns=[\"timestamp\"], inplace=True)\n",
    "\n",
    "green_O1.drop(columns=[\"timestamp\"], inplace=True)\n",
    "green_O2.drop(columns=[\"timestamp\"], inplace=True)"
   ]
  },
  {
   "cell_type": "code",
   "execution_count": null,
   "metadata": {},
   "outputs": [
    {
     "name": "stderr",
     "output_type": "stream",
     "text": [
      "C:\\Users\\er321\\AppData\\Local\\Temp\\ipykernel_26188\\446333233.py:10: MatplotlibDeprecationWarning: The 'labels' parameter of boxplot() has been renamed 'tick_labels' since Matplotlib 3.9; support for the old name will be dropped in 3.11.\n",
      "  plt.boxplot(data, labels=['Blue O1', 'Blue O2', 'Red O1', 'Red O2', 'Green O1', 'Green O2'])\n"
     ]
    },
    {
     "data": {
      "image/png": "[encoded data removed]",
      "text/plain": [
       "<Figure size 1000x600 with 1 Axes>"
      ]
     },
     "metadata": {},
     "output_type": "display_data"
    }
   ],
   "source": [
    "# display boxplots for all channels\n",
    "import matplotlib.pyplot as plt\n",
    "# Create a figure and axis\n",
    "plt.figure(figsize=(10, 6))\n",
    "\n",
    "# Create boxplots for all channels\n",
    "data = [blue_O1['value'], blue_O2['value'],\n",
    "        red_O1['value'], red_O2['value'], \n",
    "        green_O1['value'], green_O2['value']]\n",
    "plt.boxplot(data, labels=['Blue O1', 'Blue O2', 'Red O1', 'Red O2', 'Green O1', 'Green O2'])\n",
    "\n",
    "# Customize the plot\n",
    "plt.title('EEG Signal Distribution by Channel')\n",
    "plt.ylabel('Signal Value')\n",
    "\n",
    "# Display the plot\n",
    "plt.show()\n"
   ]
  },
  {
   "cell_type": "code",
   "execution_count": 676,
   "metadata": {},
   "outputs": [],
   "source": [
    "# from joblib import load\n",
    "\n",
    "# import pandas as pd\n",
    "\n",
    "# # Load the best model saved from the grid search\n",
    "# best_model = load('best_model.joblib')\n",
    "\n",
    "# mystery_O1 = pd.read_csv(\"color_logs\\\\signal_blue\\\\signal\\\\O1.csv\")\n",
    "# mystery_O2 = pd.read_csv(\"color_logs\\\\signal_blue\\\\signal\\\\O2.csv\")\n",
    "# mystery_T3 = pd.read_csv(\"color_logs\\\\signal_blue\\\\signal\\\\T3.csv\")\n",
    "# mystery_T4 = pd.read_csv(\"color_logs\\\\signal_blue\\\\signal\\\\T4.csv\")\n",
    "\n",
    "# example_df = pd.DataFrame({\n",
    "#     \"O1\": mystery_O1[\"value\"],\n",
    "#     \"O2\": mystery_O2[\"value\"],\n",
    "#     \"T3\": mystery_T3[\"value\"],\n",
    "#     \"T4\": mystery_T4[\"value\"]\n",
    "# })\n",
    "\n",
    "# # Extract the features (ensure the CSV has columns \"O1\" and \"O2\")\n",
    "# X_example = example_df[['O1', 'O2', 'T3', 'T4']]\n",
    "\n",
    "# # Use the loaded model to predict labels for the example data\n",
    "# predictions = best_model.predict(X_example)\n",
    "\n",
    "# # Attach the predictions to the DataFrame and display the count of predicted labels\n",
    "# example_df['Predicted Label'] = predictions\n",
    "# print(\"Count of predicted labels:\")\n",
    "# print(example_df['Predicted Label'].value_counts())\n",
    "\n"
   ]
  }
 ],
 "metadata": {
  "kernelspec": {
   "display_name": "Capstone",
   "language": "python",
   "name": "python3"
  },
  "language_info": {
   "codemirror_mode": {
    "name": "ipython",
    "version": 3
   },
   "file_extension": ".py",
   "mimetype": "text/x-python",
   "name": "python",
   "nbconvert_exporter": "python",
   "pygments_lexer": "ipython3",
   "version": "3.12.8"
  }
 },
 "nbformat": 4,
 "nbformat_minor": 2
}
